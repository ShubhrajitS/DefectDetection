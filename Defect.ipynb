{
  "nbformat": 4,
  "nbformat_minor": 0,
  "metadata": {
    "colab": {
      "provenance": [],
      "authorship_tag": "ABX9TyNUJNOZ0F+sAjug4PXhGzsw",
      "include_colab_link": true
    },
    "kernelspec": {
      "name": "python3",
      "display_name": "Python 3"
    },
    "language_info": {
      "name": "python"
    }
  },
  "cells": [
    {
      "cell_type": "markdown",
      "metadata": {
        "id": "view-in-github",
        "colab_type": "text"
      },
      "source": [
        "<a href=\"https://colab.research.google.com/github/ShubhrajitS/DefectDetection/blob/main/Defect.ipynb\" target=\"_parent\"><img src=\"https://colab.research.google.com/assets/colab-badge.svg\" alt=\"Open In Colab\"/></a>"
      ]
    },
    {
      "cell_type": "code",
      "metadata": {
        "colab": {
          "base_uri": "https://localhost:8080/"
        },
        "id": "vfdRtpEPexqS",
        "outputId": "d30b7c1a-c992-4e7f-c945-bb99649e64cf"
      },
      "source": [
        "!git clone https://github.com/ShubhrajitS/DefectDetection  # clones a repository from git hub"
      ],
      "execution_count": null,
      "outputs": [
        {
          "output_type": "stream",
          "name": "stdout",
          "text": [
            "Cloning into 'DefectDetection'...\n",
            "remote: Enumerating objects: 998, done.\u001b[K\n",
            "remote: Counting objects: 100% (998/998), done.\u001b[K\n",
            "remote: Compressing objects: 100% (997/997), done.\u001b[K\n",
            "remote: Total 998 (delta 0), reused 993 (delta 0), pack-reused 0\u001b[K\n",
            "Receiving objects: 100% (998/998), 60.59 MiB | 43.11 MiB/s, done.\n"
          ]
        }
      ]
    },
    {
      "cell_type": "code",
      "metadata": {
        "colab": {
          "base_uri": "https://localhost:8080/"
        },
        "id": "USZBcIknfB1b",
        "outputId": "1c715c9a-2134-424d-a972-f0fa830303d5"
      },
      "source": [
        "!ls DefectDetection            # creates a list of files present in the path\n",
        "\n",
        "# print(np.shape(a))\n",
        "# print(a)\n"
      ],
      "execution_count": null,
      "outputs": [
        {
          "output_type": "stream",
          "name": "stdout",
          "text": [
            "Annotation.csv\timages\n"
          ]
        }
      ]
    },
    {
      "cell_type": "code",
      "metadata": {
        "id": "mFQR2ETlhiqS"
      },
      "source": [
        "import os\n",
        "import tensorflow\n",
        "import numpy as np\n",
        "import matplotlib.pyplot as plt\n",
        "import matplotlib.image as mpimg\n",
        "import keras\n",
        "from keras.models import Sequential\n",
        "from tensorflow.keras.optimizers import Adam\n",
        "from keras.layers import Convolution2D, MaxPooling2D, Dropout, Flatten, Dense\n",
        "from keras.utils.np_utils import to_categorical\n",
        "import cv2\n",
        "import pandas as pd\n",
        "import ntpath\n",
        "import random\n",
        "from sklearn.utils import shuffle\n",
        "from sklearn.model_selection import train_test_split\n",
        "from imgaug import augmenters as iaa"
      ],
      "execution_count": null,
      "outputs": []
    },
    {
      "cell_type": "code",
      "metadata": {
        "colab": {
          "base_uri": "https://localhost:8080/"
        },
        "id": "AB3GmJEFssOg",
        "outputId": "71a70af2-ec99-4106-cf40-47153eb079c7"
      },
      "source": [
        "!pip3 install imgaug"
      ],
      "execution_count": null,
      "outputs": [
        {
          "output_type": "stream",
          "name": "stdout",
          "text": [
            "Requirement already satisfied: imgaug in /usr/local/lib/python3.7/dist-packages (0.2.9)\n",
            "Requirement already satisfied: scipy in /usr/local/lib/python3.7/dist-packages (from imgaug) (1.4.1)\n",
            "Requirement already satisfied: Pillow in /usr/local/lib/python3.7/dist-packages (from imgaug) (7.1.2)\n",
            "Requirement already satisfied: imageio in /usr/local/lib/python3.7/dist-packages (from imgaug) (2.4.1)\n",
            "Requirement already satisfied: six in /usr/local/lib/python3.7/dist-packages (from imgaug) (1.15.0)\n",
            "Requirement already satisfied: matplotlib in /usr/local/lib/python3.7/dist-packages (from imgaug) (3.2.2)\n",
            "Requirement already satisfied: opencv-python in /usr/local/lib/python3.7/dist-packages (from imgaug) (4.1.2.30)\n",
            "Requirement already satisfied: scikit-image>=0.11.0 in /usr/local/lib/python3.7/dist-packages (from imgaug) (0.16.2)\n",
            "Requirement already satisfied: Shapely in /usr/local/lib/python3.7/dist-packages (from imgaug) (1.7.1)\n",
            "Requirement already satisfied: numpy>=1.15.0 in /usr/local/lib/python3.7/dist-packages (from imgaug) (1.19.5)\n",
            "Requirement already satisfied: networkx>=2.0 in /usr/local/lib/python3.7/dist-packages (from scikit-image>=0.11.0->imgaug) (2.6.3)\n",
            "Requirement already satisfied: PyWavelets>=0.4.0 in /usr/local/lib/python3.7/dist-packages (from scikit-image>=0.11.0->imgaug) (1.1.1)\n",
            "Requirement already satisfied: pyparsing!=2.0.4,!=2.1.2,!=2.1.6,>=2.0.1 in /usr/local/lib/python3.7/dist-packages (from matplotlib->imgaug) (2.4.7)\n",
            "Requirement already satisfied: cycler>=0.10 in /usr/local/lib/python3.7/dist-packages (from matplotlib->imgaug) (0.10.0)\n",
            "Requirement already satisfied: kiwisolver>=1.0.1 in /usr/local/lib/python3.7/dist-packages (from matplotlib->imgaug) (1.3.2)\n",
            "Requirement already satisfied: python-dateutil>=2.1 in /usr/local/lib/python3.7/dist-packages (from matplotlib->imgaug) (2.8.2)\n"
          ]
        }
      ]
    },
    {
      "cell_type": "code",
      "metadata": {
        "id": "_fIZBc28E361"
      },
      "source": [
        "np.random.seed(0)"
      ],
      "execution_count": null,
      "outputs": []
    },
    {
      "cell_type": "code",
      "metadata": {
        "colab": {
          "base_uri": "https://localhost:8080/",
          "height": 203
        },
        "id": "qgLBaAr7qWXv",
        "outputId": "ea35ffb0-2f40-40f9-c435-2a89191ff422"
      },
      "source": [
        "datadir = 'DefectDetection'\n",
        "columns = ['image_name','defect']\n",
        "data =pd.read_csv(os.path.join(datadir,'Annotation.csv'),names = columns)\n",
        "data.head()\n"
      ],
      "execution_count": null,
      "outputs": [
        {
          "output_type": "execute_result",
          "data": {
            "text/html": [
              "<div>\n",
              "<style scoped>\n",
              "    .dataframe tbody tr th:only-of-type {\n",
              "        vertical-align: middle;\n",
              "    }\n",
              "\n",
              "    .dataframe tbody tr th {\n",
              "        vertical-align: top;\n",
              "    }\n",
              "\n",
              "    .dataframe thead th {\n",
              "        text-align: right;\n",
              "    }\n",
              "</style>\n",
              "<table border=\"1\" class=\"dataframe\">\n",
              "  <thead>\n",
              "    <tr style=\"text-align: right;\">\n",
              "      <th></th>\n",
              "      <th>image_name</th>\n",
              "      <th>defect</th>\n",
              "    </tr>\n",
              "  </thead>\n",
              "  <tbody>\n",
              "    <tr>\n",
              "      <th>0</th>\n",
              "      <td>0.png</td>\n",
              "      <td>0</td>\n",
              "    </tr>\n",
              "    <tr>\n",
              "      <th>1</th>\n",
              "      <td>1.png</td>\n",
              "      <td>0</td>\n",
              "    </tr>\n",
              "    <tr>\n",
              "      <th>2</th>\n",
              "      <td>2.png</td>\n",
              "      <td>0</td>\n",
              "    </tr>\n",
              "    <tr>\n",
              "      <th>3</th>\n",
              "      <td>3.png</td>\n",
              "      <td>0</td>\n",
              "    </tr>\n",
              "    <tr>\n",
              "      <th>4</th>\n",
              "      <td>4.png</td>\n",
              "      <td>0</td>\n",
              "    </tr>\n",
              "  </tbody>\n",
              "</table>\n",
              "</div>"
            ],
            "text/plain": [
              "  image_name  defect\n",
              "0      0.png       0\n",
              "1      1.png       0\n",
              "2      2.png       0\n",
              "3      3.png       0\n",
              "4      4.png       0"
            ]
          },
          "metadata": {},
          "execution_count": 7
        }
      ]
    },
    {
      "cell_type": "code",
      "metadata": {
        "colab": {
          "base_uri": "https://localhost:8080/"
        },
        "id": "eHSXrM4QtUaX",
        "outputId": "bc4acfa4-3a3e-4799-9204-9da3c6ccf355"
      },
      "source": [
        "y_train = data['defect']\n",
        "y_train = np.array(y_train)\n",
        "y_train = to_categorical(y_train,2)\n",
        "print(y_train.shape)"
      ],
      "execution_count": null,
      "outputs": [
        {
          "output_type": "stream",
          "name": "stdout",
          "text": [
            "(989, 2)\n"
          ]
        }
      ]
    },
    {
      "cell_type": "code",
      "metadata": {
        "colab": {
          "base_uri": "https://localhost:8080/",
          "height": 282
        },
        "id": "bW3Nj1ePw3Nc",
        "outputId": "065c2869-73ad-4006-b126-cf0c6add89b1"
      },
      "source": [
        "hist, bins = np.histogram(data['defect'], bins=2)\n",
        "x= np.array([0,1])\n",
        "plt.bar(x,hist)\n",
        "print(hist)\n",
        "# take helo from traffic data"
      ],
      "execution_count": null,
      "outputs": [
        {
          "output_type": "stream",
          "name": "stdout",
          "text": [
            "[836 153]\n"
          ]
        },
        {
          "output_type": "display_data",
          "data": {
            "image/png": "[encoded data removed]",
            "text/plain": [
              "<Figure size 432x288 with 1 Axes>"
            ]
          },
          "metadata": {
            "needs_background": "light"
          }
        }
      ]
    },
    {
      "cell_type": "code",
      "metadata": {
        "colab": {
          "base_uri": "https://localhost:8080/",
          "height": 339
        },
        "id": "0voY6jvY0H2Z",
        "outputId": "7b7b5f9f-beba-4adc-e945-2985640e28f7"
      },
      "source": [
        "\n",
        "X_train=[]\n",
        "# img_path = 'DefectDetection/images/001.png'\n",
        "for i in range(10):\n",
        "    image_path = datadir + '/images/00'+str(i)+'.png'\n",
        "    X_train.append(image_path)\n",
        "\n",
        "for i in range(10,100):\n",
        "  image_path = datadir + '/images/0'+str(i)+'.png'\n",
        "  X_train.append(image_path)\n",
        "\n",
        "for i in range(100,836):\n",
        "  image_path = datadir + '/images/'+str(i)+'.png'\n",
        "  X_train.append(image_path)\n",
        "\n",
        "for i in range(1000,1153):\n",
        "  image_path = datadir + '/images/'+str(i)+'.png'\n",
        "  X_train.append(image_path)\n",
        "\n",
        "image = mpimg.imread(X_train[153])\n",
        "plt.imshow(image)\n",
        "print(len(X_train))\n",
        "print(X_train)\n",
        "print(image.shape)"
      ],
      "execution_count": null,
      "outputs": [
        {
          "output_type": "stream",
          "name": "stdout",
          "text": [
            "989\n",
            "['DefectDetection/images/000.png', 'DefectDetection/images/001.png', 'DefectDetection/images/002.png', 'DefectDetection/images/003.png', 'DefectDetection/images/004.png', 'DefectDetection/images/005.png', 'DefectDetection/images/006.png', 'DefectDetection/images/007.png', 'DefectDetection/images/008.png', 'DefectDetection/images/009.png', 'DefectDetection/images/010.png', 'DefectDetection/images/011.png', 'DefectDetection/images/012.png', 'DefectDetection/images/013.png', 'DefectDetection/images/014.png', 'DefectDetection/images/015.png', 'DefectDetection/images/016.png', 'DefectDetection/images/017.png', 'DefectDetection/images/018.png', 'DefectDetection/images/019.png', 'DefectDetection/images/020.png', 'DefectDetection/images/021.png', 'DefectDetection/images/022.png', 'DefectDetection/images/023.png', 'DefectDetection/images/024.png', 'DefectDetection/images/025.png', 'DefectDetection/images/026.png', 'DefectDetection/images/027.png', 'DefectDetection/images/028.png', 'DefectDetection/images/029.png', 'DefectDetection/images/030.png', 'DefectDetection/images/031.png', 'DefectDetection/images/032.png', 'DefectDetection/images/033.png', 'DefectDetection/images/034.png', 'DefectDetection/images/035.png', 'DefectDetection/images/036.png', 'DefectDetection/images/037.png', 'DefectDetection/images/038.png', 'DefectDetection/images/039.png', 'DefectDetection/images/040.png', 'DefectDetection/images/041.png', 'DefectDetection/images/042.png', 'DefectDetection/images/043.png', 'DefectDetection/images/044.png', 'DefectDetection/images/045.png', 'DefectDetection/images/046.png', 'DefectDetection/images/047.png', 'DefectDetection/images/048.png', 'DefectDetection/images/049.png', 'DefectDetection/images/050.png', 'DefectDetection/images/051.png', 'DefectDetection/images/052.png', 'DefectDetection/images/053.png', 'DefectDetection/images/054.png', 'DefectDetection/images/055.png', 'DefectDetection/images/056.png', 'DefectDetection/images/057.png', 'DefectDetection/images/058.png', 'DefectDetection/images/059.png', 'DefectDetection/images/060.png', 'DefectDetection/images/061.png', 'DefectDetection/images/062.png', 'DefectDetection/images/063.png', 'DefectDetection/images/064.png', 'DefectDetection/images/065.png', 'DefectDetection/images/066.png', 'DefectDetection/images/067.png', 'DefectDetection/images/068.png', 'DefectDetection/images/069.png', 'DefectDetection/images/070.png', 'DefectDetection/images/071.png', 'DefectDetection/images/072.png', 'DefectDetection/images/073.png', 'DefectDetection/images/074.png', 'DefectDetection/images/075.png', 'DefectDetection/images/076.png', 'DefectDetection/images/077.png', 'DefectDetection/images/078.png', 'DefectDetection/images/079.png', 'DefectDetection/images/080.png', 'DefectDetection/images/081.png', 'DefectDetection/images/082.png', 'DefectDetection/images/083.png', 'DefectDetection/images/084.png', 'DefectDetection/images/085.png', 'DefectDetection/images/086.png', 'DefectDetection/images/087.png', 'DefectDetection/images/088.png', 'DefectDetection/images/089.png', 'DefectDetection/images/090.png', 'DefectDetection/images/091.png', 'DefectDetection/images/092.png', 'DefectDetection/images/093.png', 'DefectDetection/images/094.png', 'DefectDetection/images/095.png', 'DefectDetection/images/096.png', 'DefectDetection/images/097.png', 'DefectDetection/images/098.png', 'DefectDetection/images/099.png', 'DefectDetection/images/100.png', 'DefectDetection/images/101.png', 'DefectDetection/images/102.png', 'DefectDetection/images/103.png', 'DefectDetection/images/104.png', 'DefectDetection/images/105.png', 'DefectDetection/images/106.png', 'DefectDetection/images/107.png', 'DefectDetection/images/108.png', 'DefectDetection/images/109.png', 'DefectDetection/images/110.png', 'DefectDetection/images/111.png', 'DefectDetection/images/112.png', 'DefectDetection/images/113.png', 'DefectDetection/images/114.png', 'DefectDetection/images/115.png', 'DefectDetection/images/116.png', 'DefectDetection/images/117.png', 'DefectDetection/images/118.png', 'DefectDetection/images/119.png', 'DefectDetection/images/120.png', 'DefectDetection/images/121.png', 'DefectDetection/images/122.png', 'DefectDetection/images/123.png', 'DefectDetection/images/124.png', 'DefectDetection/images/125.png', 'DefectDetection/images/126.png', 'DefectDetection/images/127.png', 'DefectDetection/images/128.png', 'DefectDetection/images/129.png', 'DefectDetection/images/130.png', 'DefectDetection/images/131.png', 'DefectDetection/images/132.png', 'DefectDetection/images/133.png', 'DefectDetection/images/134.png', 'DefectDetection/images/135.png', 'DefectDetection/images/136.png', 'DefectDetection/images/137.png', 'DefectDetection/images/138.png', 'DefectDetection/images/139.png', 'DefectDetection/images/140.png', 'DefectDetection/images/141.png', 'DefectDetection/images/142.png', 'DefectDetection/images/143.png', 'DefectDetection/images/144.png', 'DefectDetection/images/145.png', 'DefectDetection/images/146.png', 'DefectDetection/images/147.png', 'DefectDetection/images/148.png', 'DefectDetection/images/149.png', 'DefectDetection/images/150.png', 'DefectDetection/images/151.png', 'DefectDetection/images/152.png', 'DefectDetection/images/153.png', 'DefectDetection/images/154.png', 'DefectDetection/images/155.png', 'DefectDetection/images/156.png', 'DefectDetection/images/157.png', 'DefectDetection/images/158.png', 'DefectDetection/images/159.png', 'DefectDetection/images/160.png', 'DefectDetection/images/161.png', 'DefectDetection/images/162.png', 'DefectDetection/images/163.png', 'DefectDetection/images/164.png', 'DefectDetection/images/165.png', 'DefectDetection/images/166.png', 'DefectDetection/images/167.png', 'DefectDetection/images/168.png', 'DefectDetection/images/169.png', 'DefectDetection/images/170.png', 'DefectDetection/images/171.png', 'DefectDetection/images/172.png', 'DefectDetection/images/173.png', 'DefectDetection/images/174.png', 'DefectDetection/images/175.png', 'DefectDetection/images/176.png', 'DefectDetection/images/177.png', 'DefectDetection/images/178.png', 'DefectDetection/images/179.png', 'DefectDetection/images/180.png', 'DefectDetection/images/181.png', 'DefectDetection/images/182.png', 'DefectDetection/images/183.png', 'DefectDetection/images/184.png', 'DefectDetection/images/185.png', 'DefectDetection/images/186.png', 'DefectDetection/images/187.png', 'DefectDetection/images/188.png', 'DefectDetection/images/189.png', 'DefectDetection/images/190.png', 'DefectDetection/images/191.png', 'DefectDetection/images/192.png', 'DefectDetection/images/193.png', 'DefectDetection/images/194.png', 'DefectDetection/images/195.png', 'DefectDetection/images/196.png', 'DefectDetection/images/197.png', 'DefectDetection/images/198.png', 'DefectDetection/images/199.png', 'DefectDetection/images/200.png', 'DefectDetection/images/201.png', 'DefectDetection/images/202.png', 'DefectDetection/images/203.png', 'DefectDetection/images/204.png', 'DefectDetection/images/205.png', 'DefectDetection/images/206.png', 'DefectDetection/images/207.png', 'DefectDetection/images/208.png', 'DefectDetection/images/209.png', 'DefectDetection/images/210.png', 'DefectDetection/images/211.png', 'DefectDetection/images/212.png', 'DefectDetection/images/213.png', 'DefectDetection/images/214.png', 'DefectDetection/images/215.png', 'DefectDetection/images/216.png', 'DefectDetection/images/217.png', 'DefectDetection/images/218.png', 'DefectDetection/images/219.png', 'DefectDetection/images/220.png', 'DefectDetection/images/221.png', 'DefectDetection/images/222.png', 'DefectDetection/images/223.png', 'DefectDetection/images/224.png', 'DefectDetection/images/225.png', 'DefectDetection/images/226.png', 'DefectDetection/images/227.png', 'DefectDetection/images/228.png', 'DefectDetection/images/229.png', 'DefectDetection/images/230.png', 'DefectDetection/images/231.png', 'DefectDetection/images/232.png', 'DefectDetection/images/233.png', 'DefectDetection/images/234.png', 'DefectDetection/images/235.png', 'DefectDetection/images/236.png', 'DefectDetection/images/237.png', 'DefectDetection/images/238.png', 'DefectDetection/images/239.png', 'DefectDetection/images/240.png', 'DefectDetection/images/241.png', 'DefectDetection/images/242.png', 'DefectDetection/images/243.png', 'DefectDetection/images/244.png', 'DefectDetection/images/245.png', 'DefectDetection/images/246.png', 'DefectDetection/images/247.png', 'DefectDetection/images/248.png', 'DefectDetection/images/249.png', 'DefectDetection/images/250.png', 'DefectDetection/images/251.png', 'DefectDetection/images/252.png', 'DefectDetection/images/253.png', 'DefectDetection/images/254.png', 'DefectDetection/images/255.png', 'DefectDetection/images/256.png', 'DefectDetection/images/257.png', 'DefectDetection/images/258.png', 'DefectDetection/images/259.png', 'DefectDetection/images/260.png', 'DefectDetection/images/261.png', 'DefectDetection/images/262.png', 'DefectDetection/images/263.png', 'DefectDetection/images/264.png', 'DefectDetection/images/265.png', 'DefectDetection/images/266.png', 'DefectDetection/images/267.png', 'DefectDetection/images/268.png', 'DefectDetection/images/269.png', 'DefectDetection/images/270.png', 'DefectDetection/images/271.png', 'DefectDetection/images/272.png', 'DefectDetection/images/273.png', 'DefectDetection/images/274.png', 'DefectDetection/images/275.png', 'DefectDetection/images/276.png', 'DefectDetection/images/277.png', 'DefectDetection/images/278.png', 'DefectDetection/images/279.png', 'DefectDetection/images/280.png', 'DefectDetection/images/281.png', 'DefectDetection/images/282.png', 'DefectDetection/images/283.png', 'DefectDetection/images/284.png', 'DefectDetection/images/285.png', 'DefectDetection/images/286.png', 'DefectDetection/images/287.png', 'DefectDetection/images/288.png', 'DefectDetection/images/289.png', 'DefectDetection/images/290.png', 'DefectDetection/images/291.png', 'DefectDetection/images/292.png', 'DefectDetection/images/293.png', 'DefectDetection/images/294.png', 'DefectDetection/images/295.png', 'DefectDetection/images/296.png', 'DefectDetection/images/297.png', 'DefectDetection/images/298.png', 'DefectDetection/images/299.png', 'DefectDetection/images/300.png', 'DefectDetection/images/301.png', 'DefectDetection/images/302.png', 'DefectDetection/images/303.png', 'DefectDetection/images/304.png', 'DefectDetection/images/305.png', 'DefectDetection/images/306.png', 'DefectDetection/images/307.png', 'DefectDetection/images/308.png', 'DefectDetection/images/309.png', 'DefectDetection/images/310.png', 'DefectDetection/images/311.png', 'DefectDetection/images/312.png', 'DefectDetection/images/313.png', 'DefectDetection/images/314.png', 'DefectDetection/images/315.png', 'DefectDetection/images/316.png', 'DefectDetection/images/317.png', 'DefectDetection/images/318.png', 'DefectDetection/images/319.png', 'DefectDetection/images/320.png', 'DefectDetection/images/321.png', 'DefectDetection/images/322.png', 'DefectDetection/images/323.png', 'DefectDetection/images/324.png', 'DefectDetection/images/325.png', 'DefectDetection/images/326.png', 'DefectDetection/images/327.png', 'DefectDetection/images/328.png', 'DefectDetection/images/329.png', 'DefectDetection/images/330.png', 'DefectDetection/images/331.png', 'DefectDetection/images/332.png', 'DefectDetection/images/333.png', 'DefectDetection/images/334.png', 'DefectDetection/images/335.png', 'DefectDetection/images/336.png', 'DefectDetection/images/337.png', 'DefectDetection/images/338.png', 'DefectDetection/images/339.png', 'DefectDetection/images/340.png', 'DefectDetection/images/341.png', 'DefectDetection/images/342.png', 'DefectDetection/images/343.png', 'DefectDetection/images/344.png', 'DefectDetection/images/345.png', 'DefectDetection/images/346.png', 'DefectDetection/images/347.png', 'DefectDetection/images/348.png', 'DefectDetection/images/349.png', 'DefectDetection/images/350.png', 'DefectDetection/images/351.png', 'DefectDetection/images/352.png', 'DefectDetection/images/353.png', 'DefectDetection/images/354.png', 'DefectDetection/images/355.png', 'DefectDetection/images/356.png', 'DefectDetection/images/357.png', 'DefectDetection/images/358.png', 'DefectDetection/images/359.png', 'DefectDetection/images/360.png', 'DefectDetection/images/361.png', 'DefectDetection/images/362.png', 'DefectDetection/images/363.png', 'DefectDetection/images/364.png', 'DefectDetection/images/365.png', 'DefectDetection/images/366.png', 'DefectDetection/images/367.png', 'DefectDetection/images/368.png', 'DefectDetection/images/369.png', 'DefectDetection/images/370.png', 'DefectDetection/images/371.png', 'DefectDetection/images/372.png', 'DefectDetection/images/373.png', 'DefectDetection/images/374.png', 'DefectDetection/images/375.png', 'DefectDetection/images/376.png', 'DefectDetection/images/377.png', 'DefectDetection/images/378.png', 'DefectDetection/images/379.png', 'DefectDetection/images/380.png', 'DefectDetection/images/381.png', 'DefectDetection/images/382.png', 'DefectDetection/images/383.png', 'DefectDetection/images/384.png', 'DefectDetection/images/385.png', 'DefectDetection/images/386.png', 'DefectDetection/images/387.png', 'DefectDetection/images/388.png', 'DefectDetection/images/389.png', 'DefectDetection/images/390.png', 'DefectDetection/images/391.png', 'DefectDetection/images/392.png', 'DefectDetection/images/393.png', 'DefectDetection/images/394.png', 'DefectDetection/images/395.png', 'DefectDetection/images/396.png', 'DefectDetection/images/397.png', 'DefectDetection/images/398.png', 'DefectDetection/images/399.png', 'DefectDetection/images/400.png', 'DefectDetection/images/401.png', 'DefectDetection/images/402.png', 'DefectDetection/images/403.png', 'DefectDetection/images/404.png', 'DefectDetection/images/405.png', 'DefectDetection/images/406.png', 'DefectDetection/images/407.png', 'DefectDetection/images/408.png', 'DefectDetection/images/409.png', 'DefectDetection/images/410.png', 'DefectDetection/images/411.png', 'DefectDetection/images/412.png', 'DefectDetection/images/413.png', 'DefectDetection/images/414.png', 'DefectDetection/images/415.png', 'DefectDetection/images/416.png', 'DefectDetection/images/417.png', 'DefectDetection/images/418.png', 'DefectDetection/images/419.png', 'DefectDetection/images/420.png', 'DefectDetection/images/421.png', 'DefectDetection/images/422.png', 'DefectDetection/images/423.png', 'DefectDetection/images/424.png', 'DefectDetection/images/425.png', 'DefectDetection/images/426.png', 'DefectDetection/images/427.png', 'DefectDetection/images/428.png', 'DefectDetection/images/429.png', 'DefectDetection/images/430.png', 'DefectDetection/images/431.png', 'DefectDetection/images/432.png', 'DefectDetection/images/433.png', 'DefectDetection/images/434.png', 'DefectDetection/images/435.png', 'DefectDetection/images/436.png', 'DefectDetection/images/437.png', 'DefectDetection/images/438.png', 'DefectDetection/images/439.png', 'DefectDetection/images/440.png', 'DefectDetection/images/441.png', 'DefectDetection/images/442.png', 'DefectDetection/images/443.png', 'DefectDetection/images/444.png', 'DefectDetection/images/445.png', 'DefectDetection/images/446.png', 'DefectDetection/images/447.png', 'DefectDetection/images/448.png', 'DefectDetection/images/449.png', 'DefectDetection/images/450.png', 'DefectDetection/images/451.png', 'DefectDetection/images/452.png', 'DefectDetection/images/453.png', 'DefectDetection/images/454.png', 'DefectDetection/images/455.png', 'DefectDetection/images/456.png', 'DefectDetection/images/457.png', 'DefectDetection/images/458.png', 'DefectDetection/images/459.png', 'DefectDetection/images/460.png', 'DefectDetection/images/461.png', 'DefectDetection/images/462.png', 'DefectDetection/images/463.png', 'DefectDetection/images/464.png', 'DefectDetection/images/465.png', 'DefectDetection/images/466.png', 'DefectDetection/images/467.png', 'DefectDetection/images/468.png', 'DefectDetection/images/469.png', 'DefectDetection/images/470.png', 'DefectDetection/images/471.png', 'DefectDetection/images/472.png', 'DefectDetection/images/473.png', 'DefectDetection/images/474.png', 'DefectDetection/images/475.png', 'DefectDetection/images/476.png', 'DefectDetection/images/477.png', 'DefectDetection/images/478.png', 'DefectDetection/images/479.png', 'DefectDetection/images/480.png', 'DefectDetection/images/481.png', 'DefectDetection/images/482.png', 'DefectDetection/images/483.png', 'DefectDetection/images/484.png', 'DefectDetection/images/485.png', 'DefectDetection/images/486.png', 'DefectDetection/images/487.png', 'DefectDetection/images/488.png', 'DefectDetection/images/489.png', 'DefectDetection/images/490.png', 'DefectDetection/images/491.png', 'DefectDetection/images/492.png', 'DefectDetection/images/493.png', 'DefectDetection/images/494.png', 'DefectDetection/images/495.png', 'DefectDetection/images/496.png', 'DefectDetection/images/497.png', 'DefectDetection/images/498.png', 'DefectDetection/images/499.png', 'DefectDetection/images/500.png', 'DefectDetection/images/501.png', 'DefectDetection/images/502.png', 'DefectDetection/images/503.png', 'DefectDetection/images/504.png', 'DefectDetection/images/505.png', 'DefectDetection/images/506.png', 'DefectDetection/images/507.png', 'DefectDetection/images/508.png', 'DefectDetection/images/509.png', 'DefectDetection/images/510.png', 'DefectDetection/images/511.png', 'DefectDetection/images/512.png', 'DefectDetection/images/513.png', 'DefectDetection/images/514.png', 'DefectDetection/images/515.png', 'DefectDetection/images/516.png', 'DefectDetection/images/517.png', 'DefectDetection/images/518.png', 'DefectDetection/images/519.png', 'DefectDetection/images/520.png', 'DefectDetection/images/521.png', 'DefectDetection/images/522.png', 'DefectDetection/images/523.png', 'DefectDetection/images/524.png', 'DefectDetection/images/525.png', 'DefectDetection/images/526.png', 'DefectDetection/images/527.png', 'DefectDetection/images/528.png', 'DefectDetection/images/529.png', 'DefectDetection/images/530.png', 'DefectDetection/images/531.png', 'DefectDetection/images/532.png', 'DefectDetection/images/533.png', 'DefectDetection/images/534.png', 'DefectDetection/images/535.png', 'DefectDetection/images/536.png', 'DefectDetection/images/537.png', 'DefectDetection/images/538.png', 'DefectDetection/images/539.png', 'DefectDetection/images/540.png', 'DefectDetection/images/541.png', 'DefectDetection/images/542.png', 'DefectDetection/images/543.png', 'DefectDetection/images/544.png', 'DefectDetection/images/545.png', 'DefectDetection/images/546.png', 'DefectDetection/images/547.png', 'DefectDetection/images/548.png', 'DefectDetection/images/549.png', 'DefectDetection/images/550.png', 'DefectDetection/images/551.png', 'DefectDetection/images/552.png', 'DefectDetection/images/553.png', 'DefectDetection/images/554.png', 'DefectDetection/images/555.png', 'DefectDetection/images/556.png', 'DefectDetection/images/557.png', 'DefectDetection/images/558.png', 'DefectDetection/images/559.png', 'DefectDetection/images/560.png', 'DefectDetection/images/561.png', 'DefectDetection/images/562.png', 'DefectDetection/images/563.png', 'DefectDetection/images/564.png', 'DefectDetection/images/565.png', 'DefectDetection/images/566.png', 'DefectDetection/images/567.png', 'DefectDetection/images/568.png', 'DefectDetection/images/569.png', 'DefectDetection/images/570.png', 'DefectDetection/images/571.png', 'DefectDetection/images/572.png', 'DefectDetection/images/573.png', 'DefectDetection/images/574.png', 'DefectDetection/images/575.png', 'DefectDetection/images/576.png', 'DefectDetection/images/577.png', 'DefectDetection/images/578.png', 'DefectDetection/images/579.png', 'DefectDetection/images/580.png', 'DefectDetection/images/581.png', 'DefectDetection/images/582.png', 'DefectDetection/images/583.png', 'DefectDetection/images/584.png', 'DefectDetection/images/585.png', 'DefectDetection/images/586.png', 'DefectDetection/images/587.png', 'DefectDetection/images/588.png', 'DefectDetection/images/589.png', 'DefectDetection/images/590.png', 'DefectDetection/images/591.png', 'DefectDetection/images/592.png', 'DefectDetection/images/593.png', 'DefectDetection/images/594.png', 'DefectDetection/images/595.png', 'DefectDetection/images/596.png', 'DefectDetection/images/597.png', 'DefectDetection/images/598.png', 'DefectDetection/images/599.png', 'DefectDetection/images/600.png', 'DefectDetection/images/601.png', 'DefectDetection/images/602.png', 'DefectDetection/images/603.png', 'DefectDetection/images/604.png', 'DefectDetection/images/605.png', 'DefectDetection/images/606.png', 'DefectDetection/images/607.png', 'DefectDetection/images/608.png', 'DefectDetection/images/609.png', 'DefectDetection/images/610.png', 'DefectDetection/images/611.png', 'DefectDetection/images/612.png', 'DefectDetection/images/613.png', 'DefectDetection/images/614.png', 'DefectDetection/images/615.png', 'DefectDetection/images/616.png', 'DefectDetection/images/617.png', 'DefectDetection/images/618.png', 'DefectDetection/images/619.png', 'DefectDetection/images/620.png', 'DefectDetection/images/621.png', 'DefectDetection/images/622.png', 'DefectDetection/images/623.png', 'DefectDetection/images/624.png', 'DefectDetection/images/625.png', 'DefectDetection/images/626.png', 'DefectDetection/images/627.png', 'DefectDetection/images/628.png', 'DefectDetection/images/629.png', 'DefectDetection/images/630.png', 'DefectDetection/images/631.png', 'DefectDetection/images/632.png', 'DefectDetection/images/633.png', 'DefectDetection/images/634.png', 'DefectDetection/images/635.png', 'DefectDetection/images/636.png', 'DefectDetection/images/637.png', 'DefectDetection/images/638.png', 'DefectDetection/images/639.png', 'DefectDetection/images/640.png', 'DefectDetection/images/641.png', 'DefectDetection/images/642.png', 'DefectDetection/images/643.png', 'DefectDetection/images/644.png', 'DefectDetection/images/645.png', 'DefectDetection/images/646.png', 'DefectDetection/images/647.png', 'DefectDetection/images/648.png', 'DefectDetection/images/649.png', 'DefectDetection/images/650.png', 'DefectDetection/images/651.png', 'DefectDetection/images/652.png', 'DefectDetection/images/653.png', 'DefectDetection/images/654.png', 'DefectDetection/images/655.png', 'DefectDetection/images/656.png', 'DefectDetection/images/657.png', 'DefectDetection/images/658.png', 'DefectDetection/images/659.png', 'DefectDetection/images/660.png', 'DefectDetection/images/661.png', 'DefectDetection/images/662.png', 'DefectDetection/images/663.png', 'DefectDetection/images/664.png', 'DefectDetection/images/665.png', 'DefectDetection/images/666.png', 'DefectDetection/images/667.png', 'DefectDetection/images/668.png', 'DefectDetection/images/669.png', 'DefectDetection/images/670.png', 'DefectDetection/images/671.png', 'DefectDetection/images/672.png', 'DefectDetection/images/673.png', 'DefectDetection/images/674.png', 'DefectDetection/images/675.png', 'DefectDetection/images/676.png', 'DefectDetection/images/677.png', 'DefectDetection/images/678.png', 'DefectDetection/images/679.png', 'DefectDetection/images/680.png', 'DefectDetection/images/681.png', 'DefectDetection/images/682.png', 'DefectDetection/images/683.png', 'DefectDetection/images/684.png', 'DefectDetection/images/685.png', 'DefectDetection/images/686.png', 'DefectDetection/images/687.png', 'DefectDetection/images/688.png', 'DefectDetection/images/689.png', 'DefectDetection/images/690.png', 'DefectDetection/images/691.png', 'DefectDetection/images/692.png', 'DefectDetection/images/693.png', 'DefectDetection/images/694.png', 'DefectDetection/images/695.png', 'DefectDetection/images/696.png', 'DefectDetection/images/697.png', 'DefectDetection/images/698.png', 'DefectDetection/images/699.png', 'DefectDetection/images/700.png', 'DefectDetection/images/701.png', 'DefectDetection/images/702.png', 'DefectDetection/images/703.png', 'DefectDetection/images/704.png', 'DefectDetection/images/705.png', 'DefectDetection/images/706.png', 'DefectDetection/images/707.png', 'DefectDetection/images/708.png', 'DefectDetection/images/709.png', 'DefectDetection/images/710.png', 'DefectDetection/images/711.png', 'DefectDetection/images/712.png', 'DefectDetection/images/713.png', 'DefectDetection/images/714.png', 'DefectDetection/images/715.png', 'DefectDetection/images/716.png', 'DefectDetection/images/717.png', 'DefectDetection/images/718.png', 'DefectDetection/images/719.png', 'DefectDetection/images/720.png', 'DefectDetection/images/721.png', 'DefectDetection/images/722.png', 'DefectDetection/images/723.png', 'DefectDetection/images/724.png', 'DefectDetection/images/725.png', 'DefectDetection/images/726.png', 'DefectDetection/images/727.png', 'DefectDetection/images/728.png', 'DefectDetection/images/729.png', 'DefectDetection/images/730.png', 'DefectDetection/images/731.png', 'DefectDetection/images/732.png', 'DefectDetection/images/733.png', 'DefectDetection/images/734.png', 'DefectDetection/images/735.png', 'DefectDetection/images/736.png', 'DefectDetection/images/737.png', 'DefectDetection/images/738.png', 'DefectDetection/images/739.png', 'DefectDetection/images/740.png', 'DefectDetection/images/741.png', 'DefectDetection/images/742.png', 'DefectDetection/images/743.png', 'DefectDetection/images/744.png', 'DefectDetection/images/745.png', 'DefectDetection/images/746.png', 'DefectDetection/images/747.png', 'DefectDetection/images/748.png', 'DefectDetection/images/749.png', 'DefectDetection/images/750.png', 'DefectDetection/images/751.png', 'DefectDetection/images/752.png', 'DefectDetection/images/753.png', 'DefectDetection/images/754.png', 'DefectDetection/images/755.png', 'DefectDetection/images/756.png', 'DefectDetection/images/757.png', 'DefectDetection/images/758.png', 'DefectDetection/images/759.png', 'DefectDetection/images/760.png', 'DefectDetection/images/761.png', 'DefectDetection/images/762.png', 'DefectDetection/images/763.png', 'DefectDetection/images/764.png', 'DefectDetection/images/765.png', 'DefectDetection/images/766.png', 'DefectDetection/images/767.png', 'DefectDetection/images/768.png', 'DefectDetection/images/769.png', 'DefectDetection/images/770.png', 'DefectDetection/images/771.png', 'DefectDetection/images/772.png', 'DefectDetection/images/773.png', 'DefectDetection/images/774.png', 'DefectDetection/images/775.png', 'DefectDetection/images/776.png', 'DefectDetection/images/777.png', 'DefectDetection/images/778.png', 'DefectDetection/images/779.png', 'DefectDetection/images/780.png', 'DefectDetection/images/781.png', 'DefectDetection/images/782.png', 'DefectDetection/images/783.png', 'DefectDetection/images/784.png', 'DefectDetection/images/785.png', 'DefectDetection/images/786.png', 'DefectDetection/images/787.png', 'DefectDetection/images/788.png', 'DefectDetection/images/789.png', 'DefectDetection/images/790.png', 'DefectDetection/images/791.png', 'DefectDetection/images/792.png', 'DefectDetection/images/793.png', 'DefectDetection/images/794.png', 'DefectDetection/images/795.png', 'DefectDetection/images/796.png', 'DefectDetection/images/797.png', 'DefectDetection/images/798.png', 'DefectDetection/images/799.png', 'DefectDetection/images/800.png', 'DefectDetection/images/801.png', 'DefectDetection/images/802.png', 'DefectDetection/images/803.png', 'DefectDetection/images/804.png', 'DefectDetection/images/805.png', 'DefectDetection/images/806.png', 'DefectDetection/images/807.png', 'DefectDetection/images/808.png', 'DefectDetection/images/809.png', 'DefectDetection/images/810.png', 'DefectDetection/images/811.png', 'DefectDetection/images/812.png', 'DefectDetection/images/813.png', 'DefectDetection/images/814.png', 'DefectDetection/images/815.png', 'DefectDetection/images/816.png', 'DefectDetection/images/817.png', 'DefectDetection/images/818.png', 'DefectDetection/images/819.png', 'DefectDetection/images/820.png', 'DefectDetection/images/821.png', 'DefectDetection/images/822.png', 'DefectDetection/images/823.png', 'DefectDetection/images/824.png', 'DefectDetection/images/825.png', 'DefectDetection/images/826.png', 'DefectDetection/images/827.png', 'DefectDetection/images/828.png', 'DefectDetection/images/829.png', 'DefectDetection/images/830.png', 'DefectDetection/images/831.png', 'DefectDetection/images/832.png', 'DefectDetection/images/833.png', 'DefectDetection/images/834.png', 'DefectDetection/images/835.png', 'DefectDetection/images/1000.png', 'DefectDetection/images/1001.png', 'DefectDetection/images/1002.png', 'DefectDetection/images/1003.png', 'DefectDetection/images/1004.png', 'DefectDetection/images/1005.png', 'DefectDetection/images/1006.png', 'DefectDetection/images/1007.png', 'DefectDetection/images/1008.png', 'DefectDetection/images/1009.png', 'DefectDetection/images/1010.png', 'DefectDetection/images/1011.png', 'DefectDetection/images/1012.png', 'DefectDetection/images/1013.png', 'DefectDetection/images/1014.png', 'DefectDetection/images/1015.png', 'DefectDetection/images/1016.png', 'DefectDetection/images/1017.png', 'DefectDetection/images/1018.png', 'DefectDetection/images/1019.png', 'DefectDetection/images/1020.png', 'DefectDetection/images/1021.png', 'DefectDetection/images/1022.png', 'DefectDetection/images/1023.png', 'DefectDetection/images/1024.png', 'DefectDetection/images/1025.png', 'DefectDetection/images/1026.png', 'DefectDetection/images/1027.png', 'DefectDetection/images/1028.png', 'DefectDetection/images/1029.png', 'DefectDetection/images/1030.png', 'DefectDetection/images/1031.png', 'DefectDetection/images/1032.png', 'DefectDetection/images/1033.png', 'DefectDetection/images/1034.png', 'DefectDetection/images/1035.png', 'DefectDetection/images/1036.png', 'DefectDetection/images/1037.png', 'DefectDetection/images/1038.png', 'DefectDetection/images/1039.png', 'DefectDetection/images/1040.png', 'DefectDetection/images/1041.png', 'DefectDetection/images/1042.png', 'DefectDetection/images/1043.png', 'DefectDetection/images/1044.png', 'DefectDetection/images/1045.png', 'DefectDetection/images/1046.png', 'DefectDetection/images/1047.png', 'DefectDetection/images/1048.png', 'DefectDetection/images/1049.png', 'DefectDetection/images/1050.png', 'DefectDetection/images/1051.png', 'DefectDetection/images/1052.png', 'DefectDetection/images/1053.png', 'DefectDetection/images/1054.png', 'DefectDetection/images/1055.png', 'DefectDetection/images/1056.png', 'DefectDetection/images/1057.png', 'DefectDetection/images/1058.png', 'DefectDetection/images/1059.png', 'DefectDetection/images/1060.png', 'DefectDetection/images/1061.png', 'DefectDetection/images/1062.png', 'DefectDetection/images/1063.png', 'DefectDetection/images/1064.png', 'DefectDetection/images/1065.png', 'DefectDetection/images/1066.png', 'DefectDetection/images/1067.png', 'DefectDetection/images/1068.png', 'DefectDetection/images/1069.png', 'DefectDetection/images/1070.png', 'DefectDetection/images/1071.png', 'DefectDetection/images/1072.png', 'DefectDetection/images/1073.png', 'DefectDetection/images/1074.png', 'DefectDetection/images/1075.png', 'DefectDetection/images/1076.png', 'DefectDetection/images/1077.png', 'DefectDetection/images/1078.png', 'DefectDetection/images/1079.png', 'DefectDetection/images/1080.png', 'DefectDetection/images/1081.png', 'DefectDetection/images/1082.png', 'DefectDetection/images/1083.png', 'DefectDetection/images/1084.png', 'DefectDetection/images/1085.png', 'DefectDetection/images/1086.png', 'DefectDetection/images/1087.png', 'DefectDetection/images/1088.png', 'DefectDetection/images/1089.png', 'DefectDetection/images/1090.png', 'DefectDetection/images/1091.png', 'DefectDetection/images/1092.png', 'DefectDetection/images/1093.png', 'DefectDetection/images/1094.png', 'DefectDetection/images/1095.png', 'DefectDetection/images/1096.png', 'DefectDetection/images/1097.png', 'DefectDetection/images/1098.png', 'DefectDetection/images/1099.png', 'DefectDetection/images/1100.png', 'DefectDetection/images/1101.png', 'DefectDetection/images/1102.png', 'DefectDetection/images/1103.png', 'DefectDetection/images/1104.png', 'DefectDetection/images/1105.png', 'DefectDetection/images/1106.png', 'DefectDetection/images/1107.png', 'DefectDetection/images/1108.png', 'DefectDetection/images/1109.png', 'DefectDetection/images/1110.png', 'DefectDetection/images/1111.png', 'DefectDetection/images/1112.png', 'DefectDetection/images/1113.png', 'DefectDetection/images/1114.png', 'DefectDetection/images/1115.png', 'DefectDetection/images/1116.png', 'DefectDetection/images/1117.png', 'DefectDetection/images/1118.png', 'DefectDetection/images/1119.png', 'DefectDetection/images/1120.png', 'DefectDetection/images/1121.png', 'DefectDetection/images/1122.png', 'DefectDetection/images/1123.png', 'DefectDetection/images/1124.png', 'DefectDetection/images/1125.png', 'DefectDetection/images/1126.png', 'DefectDetection/images/1127.png', 'DefectDetection/images/1128.png', 'DefectDetection/images/1129.png', 'DefectDetection/images/1130.png', 'DefectDetection/images/1131.png', 'DefectDetection/images/1132.png', 'DefectDetection/images/1133.png', 'DefectDetection/images/1134.png', 'DefectDetection/images/1135.png', 'DefectDetection/images/1136.png', 'DefectDetection/images/1137.png', 'DefectDetection/images/1138.png', 'DefectDetection/images/1139.png', 'DefectDetection/images/1140.png', 'DefectDetection/images/1141.png', 'DefectDetection/images/1142.png', 'DefectDetection/images/1143.png', 'DefectDetection/images/1144.png', 'DefectDetection/images/1145.png', 'DefectDetection/images/1146.png', 'DefectDetection/images/1147.png', 'DefectDetection/images/1148.png', 'DefectDetection/images/1149.png', 'DefectDetection/images/1150.png', 'DefectDetection/images/1151.png', 'DefectDetection/images/1152.png']\n",
            "(320, 192, 3)\n"
          ]
        },
        {
          "output_type": "display_data",
          "data": {
            "image/png": "[encoded data removed]",
            "text/plain": [
              "<Figure size 432x288 with 1 Axes>"
            ]
          },
          "metadata": {
            "needs_background": "light"
          }
        }
      ]
    },
    {
      "cell_type": "code",
      "metadata": {
        "colab": {
          "base_uri": "https://localhost:8080/"
        },
        "id": "BgSp-_4L24vd",
        "outputId": "d96f45f5-ccb6-4027-9c0e-74752815f2b0"
      },
      "source": [
        "\n",
        "X_train_matrix = np.empty((989,320,192,3))\n",
        "for i in range(len(X_train)):\n",
        "  X_train_matrix[i,:,:,:] = mpimg.imread(X_train[i])\n",
        "\n",
        "print(X_train_matrix.shape)\n"
      ],
      "execution_count": null,
      "outputs": [
        {
          "output_type": "stream",
          "name": "stdout",
          "text": [
            "(989, 320, 192, 3)\n"
          ]
        }
      ]
    },
    {
      "cell_type": "code",
      "metadata": {
        "id": "glNmxTtt3Ory"
      },
      "source": [
        "def leNet_model():\n",
        "  model = Sequential()\n",
        "  model.add(Convolution2D(30, (5,5), input_shape = (320,192,3), activation = 'relu'))\n",
        "  model.add(MaxPooling2D(pool_size=(2,2)))\n",
        "  model.add(Convolution2D(15,(3,3), activation = 'relu'))\n",
        "  model.add(MaxPooling2D(pool_size= (2,2)))\n",
        "  model.add(Flatten())\n",
        "  model.add(Dense(500, activation = 'relu'))\n",
        "  model.add(Dropout(0.5))\n",
        "  model.add(Dense(2, activation = 'softmax'))\n",
        "\n",
        "  model.compile(Adam(lr=0.01), loss= 'binary_crossentropy', metrics= ['accuracy'])\n",
        "  return model\n"
      ],
      "execution_count": null,
      "outputs": []
    },
    {
      "cell_type": "code",
      "metadata": {
        "colab": {
          "base_uri": "https://localhost:8080/"
        },
        "id": "AbFaRMtR3Wpc",
        "outputId": "f2fa3892-54b6-4ee0-8dba-ae26372ccc17"
      },
      "source": [
        "\n",
        "model = leNet_model()\n",
        "print(model.summary())"
      ],
      "execution_count": null,
      "outputs": [
        {
          "output_type": "stream",
          "name": "stdout",
          "text": [
            "Model: \"sequential\"\n",
            "_________________________________________________________________\n",
            "Layer (type)                 Output Shape              Param #   \n",
            "=================================================================\n",
            "conv2d (Conv2D)              (None, 316, 188, 30)      2280      \n",
            "_________________________________________________________________\n",
            "max_pooling2d (MaxPooling2D) (None, 158, 94, 30)       0         \n",
            "_________________________________________________________________\n",
            "conv2d_1 (Conv2D)            (None, 156, 92, 15)       4065      \n",
            "_________________________________________________________________\n",
            "max_pooling2d_1 (MaxPooling2 (None, 78, 46, 15)        0         \n",
            "_________________________________________________________________\n",
            "flatten (Flatten)            (None, 53820)             0         \n",
            "_________________________________________________________________\n",
            "dense (Dense)                (None, 500)               26910500  \n",
            "_________________________________________________________________\n",
            "dropout (Dropout)            (None, 500)               0         \n",
            "_________________________________________________________________\n",
            "dense_1 (Dense)              (None, 2)                 1002      \n",
            "=================================================================\n",
            "Total params: 26,917,847\n",
            "Trainable params: 26,917,847\n",
            "Non-trainable params: 0\n",
            "_________________________________________________________________\n",
            "None\n"
          ]
        },
        {
          "output_type": "stream",
          "name": "stderr",
          "text": [
            "/usr/local/lib/python3.7/dist-packages/keras/optimizer_v2/optimizer_v2.py:356: UserWarning: The `lr` argument is deprecated, use `learning_rate` instead.\n",
            "  \"The `lr` argument is deprecated, use `learning_rate` instead.\")\n"
          ]
        }
      ]
    },
    {
      "cell_type": "code",
      "metadata": {
        "id": "hJHpZ03i3ZdW"
      },
      "source": [
        "# define lenet model"
      ],
      "execution_count": null,
      "outputs": []
    },
    {
      "cell_type": "code",
      "metadata": {
        "colab": {
          "base_uri": "https://localhost:8080/"
        },
        "id": "lwVElaTa3c74",
        "outputId": "60d81b39-b201-43f6-eb96-94a9b9862324"
      },
      "source": [
        "# fit model\n",
        "\n",
        "history =  model.fit(X_train_matrix, y_train, epochs =10,batch_size = 10, verbose =1, shuffle =1  )"
      ],
      "execution_count": null,
      "outputs": [
        {
          "output_type": "stream",
          "name": "stdout",
          "text": [
            "Epoch 1/10\n",
            "99/99 [==============================] - 89s 889ms/step - loss: 1.5346 - accuracy: 0.8392\n",
            "Epoch 2/10\n",
            "99/99 [==============================] - 87s 883ms/step - loss: 0.4378 - accuracy: 0.8453\n",
            "Epoch 3/10\n",
            "99/99 [==============================] - 87s 883ms/step - loss: 0.4372 - accuracy: 0.8453\n",
            "Epoch 4/10\n",
            "99/99 [==============================] - 88s 885ms/step - loss: 0.4376 - accuracy: 0.8453\n",
            "Epoch 5/10\n",
            "99/99 [==============================] - 87s 884ms/step - loss: 0.4360 - accuracy: 0.8453\n",
            "Epoch 6/10\n",
            "99/99 [==============================] - 87s 882ms/step - loss: 0.4406 - accuracy: 0.8453\n",
            "Epoch 7/10\n",
            "99/99 [==============================] - 87s 880ms/step - loss: 0.4401 - accuracy: 0.8453\n",
            "Epoch 8/10\n",
            "99/99 [==============================] - 87s 881ms/step - loss: 0.4361 - accuracy: 0.8453\n",
            "Epoch 9/10\n",
            "99/99 [==============================] - 87s 879ms/step - loss: 0.4380 - accuracy: 0.8453\n",
            "Epoch 10/10\n",
            "99/99 [==============================] - 87s 878ms/step - loss: 0.4376 - accuracy: 0.8453\n"
          ]
        }
      ]
    },
    {
      "cell_type": "code",
      "metadata": {
        "colab": {
          "base_uri": "https://localhost:8080/"
        },
        "id": "4-wx-2gnB_0W",
        "outputId": "59e5d5a4-2577-4063-afca-f0ef07e9a117"
      },
      "source": [
        "X_test =  mpimg.imread(X_train[100])\n",
        "X_test = X_test.reshape(1,320,192,3)\n",
        "predict_x=model.predict(X_test)\n",
        "classes_x=np.argmax(predict_x,axis=1)\n",
        "\n",
        "print(classes_x)"
      ],
      "execution_count": null,
      "outputs": [
        {
          "output_type": "stream",
          "name": "stdout",
          "text": [
            "[0]\n"
          ]
        }
      ]
    },
    {
      "cell_type": "code",
      "metadata": {
        "id": "6bDf6PGQNLmN"
      },
      "source": [
        "model.save('Defect_model.h5')"
      ],
      "execution_count": null,
      "outputs": []
    },
    {
      "cell_type": "code",
      "metadata": {
        "colab": {
          "base_uri": "https://localhost:8080/",
          "height": 17
        },
        "id": "QMHpGnA2STUg",
        "outputId": "68053461-1bb2-4fe2-e128-a595dcffe718"
      },
      "source": [
        "from google.colab import files\n",
        "files.download('Defect_model.h5')"
      ],
      "execution_count": null,
      "outputs": [
        {
          "output_type": "display_data",
          "data": {
            "application/javascript": [
              "\n",
              "    async function download(id, filename, size) {\n",
              "      if (!google.colab.kernel.accessAllowed) {\n",
              "        return;\n",
              "      }\n",
              "      const div = document.createElement('div');\n",
              "      const label = document.createElement('label');\n",
              "      label.textContent = `Downloading \"${filename}\": `;\n",
              "      div.appendChild(label);\n",
              "      const progress = document.createElement('progress');\n",
              "      progress.max = size;\n",
              "      div.appendChild(progress);\n",
              "      document.body.appendChild(div);\n",
              "\n",
              "      const buffers = [];\n",
              "      let downloaded = 0;\n",
              "\n",
              "      const channel = await google.colab.kernel.comms.open(id);\n",
              "      // Send a message to notify the kernel that we're ready.\n",
              "      channel.send({})\n",
              "\n",
              "      for await (const message of channel.messages) {\n",
              "        // Send a message to notify the kernel that we're ready.\n",
              "        channel.send({})\n",
              "        if (message.buffers) {\n",
              "          for (const buffer of message.buffers) {\n",
              "            buffers.push(buffer);\n",
              "            downloaded += buffer.byteLength;\n",
              "            progress.value = downloaded;\n",
              "          }\n",
              "        }\n",
              "      }\n",
              "      const blob = new Blob(buffers, {type: 'application/binary'});\n",
              "      const a = document.createElement('a');\n",
              "      a.href = window.URL.createObjectURL(blob);\n",
              "      a.download = filename;\n",
              "      div.appendChild(a);\n",
              "      a.click();\n",
              "      div.remove();\n",
              "    }\n",
              "  "
            ],
            "text/plain": [
              "<IPython.core.display.Javascript object>"
            ]
          },
          "metadata": {}
        },
        {
          "output_type": "display_data",
          "data": {
            "application/javascript": [
              "download(\"download_5a652165-418b-4e04-bfb5-642dbac94e29\", \"Defect_model.h5\", 323061984)"
            ],
            "text/plain": [
              "<IPython.core.display.Javascript object>"
            ]
          },
          "metadata": {}
        }
      ]
    }
  ]
}